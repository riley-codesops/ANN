{
 "cells": [
  {
   "cell_type": "code",
   "execution_count": 1,
   "id": "e47ed64e-2dae-4ac8-ac25-fcc636ada9c6",
   "metadata": {},
   "outputs": [],
   "source": [
    "import tensorflow as tf\n",
    "import numpy as np\n",
    "import pandas as pd"
   ]
  },
  {
   "cell_type": "code",
   "execution_count": 2,
   "id": "aad6cc37-a8ba-431f-ab6b-a6a2c8fb05dd",
   "metadata": {},
   "outputs": [],
   "source": [
    "data = pd.read_csv('diamonds.csv')"
   ]
  },
  {
   "cell_type": "code",
   "execution_count": 3,
   "id": "8c120333-1bca-4d08-b37c-1c7bcabd24bf",
   "metadata": {},
   "outputs": [
    {
     "data": {
      "text/html": [
       "<div>\n",
       "<style scoped>\n",
       "    .dataframe tbody tr th:only-of-type {\n",
       "        vertical-align: middle;\n",
       "    }\n",
       "\n",
       "    .dataframe tbody tr th {\n",
       "        vertical-align: top;\n",
       "    }\n",
       "\n",
       "    .dataframe thead th {\n",
       "        text-align: right;\n",
       "    }\n",
       "</style>\n",
       "<table border=\"1\" class=\"dataframe\">\n",
       "  <thead>\n",
       "    <tr style=\"text-align: right;\">\n",
       "      <th></th>\n",
       "      <th>Unnamed: 0</th>\n",
       "      <th>carat</th>\n",
       "      <th>cut</th>\n",
       "      <th>cut_ord</th>\n",
       "      <th>color</th>\n",
       "      <th>clarity</th>\n",
       "      <th>clarity_ord</th>\n",
       "      <th>price</th>\n",
       "    </tr>\n",
       "  </thead>\n",
       "  <tbody>\n",
       "    <tr>\n",
       "      <th>0</th>\n",
       "      <td>1</td>\n",
       "      <td>0.51</td>\n",
       "      <td>Premium</td>\n",
       "      <td>4</td>\n",
       "      <td>F</td>\n",
       "      <td>VS1</td>\n",
       "      <td>4</td>\n",
       "      <td>1749</td>\n",
       "    </tr>\n",
       "    <tr>\n",
       "      <th>1</th>\n",
       "      <td>2</td>\n",
       "      <td>2.25</td>\n",
       "      <td>Fair</td>\n",
       "      <td>1</td>\n",
       "      <td>G</td>\n",
       "      <td>I1</td>\n",
       "      <td>1</td>\n",
       "      <td>7069</td>\n",
       "    </tr>\n",
       "    <tr>\n",
       "      <th>2</th>\n",
       "      <td>3</td>\n",
       "      <td>0.70</td>\n",
       "      <td>Very Good</td>\n",
       "      <td>3</td>\n",
       "      <td>E</td>\n",
       "      <td>VS2</td>\n",
       "      <td>5</td>\n",
       "      <td>2757</td>\n",
       "    </tr>\n",
       "    <tr>\n",
       "      <th>3</th>\n",
       "      <td>4</td>\n",
       "      <td>0.47</td>\n",
       "      <td>Good</td>\n",
       "      <td>2</td>\n",
       "      <td>F</td>\n",
       "      <td>VS1</td>\n",
       "      <td>4</td>\n",
       "      <td>1243</td>\n",
       "    </tr>\n",
       "    <tr>\n",
       "      <th>4</th>\n",
       "      <td>5</td>\n",
       "      <td>0.30</td>\n",
       "      <td>Ideal</td>\n",
       "      <td>5</td>\n",
       "      <td>G</td>\n",
       "      <td>VVS1</td>\n",
       "      <td>7</td>\n",
       "      <td>789</td>\n",
       "    </tr>\n",
       "  </tbody>\n",
       "</table>\n",
       "</div>"
      ],
      "text/plain": [
       "   Unnamed: 0  carat        cut  cut_ord color clarity  clarity_ord  price\n",
       "0           1   0.51    Premium        4     F     VS1            4   1749\n",
       "1           2   2.25       Fair        1     G      I1            1   7069\n",
       "2           3   0.70  Very Good        3     E     VS2            5   2757\n",
       "3           4   0.47       Good        2     F     VS1            4   1243\n",
       "4           5   0.30      Ideal        5     G    VVS1            7    789"
      ]
     },
     "execution_count": 3,
     "metadata": {},
     "output_type": "execute_result"
    }
   ],
   "source": [
    "data.head()"
   ]
  },
  {
   "cell_type": "code",
   "execution_count": 4,
   "id": "291c9a32-de3d-4817-9ef8-2c56388ebadb",
   "metadata": {},
   "outputs": [],
   "source": [
    "from sklearn.preprocessing import LabelEncoder\n",
    "Label = LabelEncoder()"
   ]
  },
  {
   "cell_type": "code",
   "execution_count": 5,
   "id": "c54b3e73-b98f-4548-abb8-f1dcdec8ef7b",
   "metadata": {},
   "outputs": [
    {
     "name": "stdout",
     "output_type": "stream",
     "text": [
      "['cut', 'color', 'clarity']\n"
     ]
    }
   ],
   "source": [
    "String = []\n",
    "for column in data.columns:\n",
    "    if data[column].dtype == 'object':\n",
    "        String.append(column)\n",
    "print(String)"
   ]
  },
  {
   "cell_type": "code",
   "execution_count": 6,
   "id": "ff6db603-cfdb-46c1-a20a-e111ae89716b",
   "metadata": {},
   "outputs": [
    {
     "name": "stdout",
     "output_type": "stream",
     "text": [
      "Index(['cut', 'color', 'clarity'], dtype='object')\n"
     ]
    }
   ],
   "source": [
    "Group = data.select_dtypes(include= 'object').columns\n",
    "print(Group)\n",
    "for column in Group:\n",
    "    data[column] = Label.fit_transform(data[column].astype(object))"
   ]
  },
  {
   "cell_type": "code",
   "execution_count": 7,
   "id": "62bd0e86-6759-4cb3-9a08-62398af80810",
   "metadata": {},
   "outputs": [
    {
     "data": {
      "text/html": [
       "<div>\n",
       "<style scoped>\n",
       "    .dataframe tbody tr th:only-of-type {\n",
       "        vertical-align: middle;\n",
       "    }\n",
       "\n",
       "    .dataframe tbody tr th {\n",
       "        vertical-align: top;\n",
       "    }\n",
       "\n",
       "    .dataframe thead th {\n",
       "        text-align: right;\n",
       "    }\n",
       "</style>\n",
       "<table border=\"1\" class=\"dataframe\">\n",
       "  <thead>\n",
       "    <tr style=\"text-align: right;\">\n",
       "      <th></th>\n",
       "      <th>Unnamed: 0</th>\n",
       "      <th>carat</th>\n",
       "      <th>cut</th>\n",
       "      <th>cut_ord</th>\n",
       "      <th>color</th>\n",
       "      <th>clarity</th>\n",
       "      <th>clarity_ord</th>\n",
       "      <th>price</th>\n",
       "    </tr>\n",
       "  </thead>\n",
       "  <tbody>\n",
       "    <tr>\n",
       "      <th>0</th>\n",
       "      <td>1</td>\n",
       "      <td>0.51</td>\n",
       "      <td>3</td>\n",
       "      <td>4</td>\n",
       "      <td>2</td>\n",
       "      <td>4</td>\n",
       "      <td>4</td>\n",
       "      <td>1749</td>\n",
       "    </tr>\n",
       "    <tr>\n",
       "      <th>1</th>\n",
       "      <td>2</td>\n",
       "      <td>2.25</td>\n",
       "      <td>0</td>\n",
       "      <td>1</td>\n",
       "      <td>3</td>\n",
       "      <td>0</td>\n",
       "      <td>1</td>\n",
       "      <td>7069</td>\n",
       "    </tr>\n",
       "    <tr>\n",
       "      <th>2</th>\n",
       "      <td>3</td>\n",
       "      <td>0.70</td>\n",
       "      <td>4</td>\n",
       "      <td>3</td>\n",
       "      <td>1</td>\n",
       "      <td>5</td>\n",
       "      <td>5</td>\n",
       "      <td>2757</td>\n",
       "    </tr>\n",
       "    <tr>\n",
       "      <th>3</th>\n",
       "      <td>4</td>\n",
       "      <td>0.47</td>\n",
       "      <td>1</td>\n",
       "      <td>2</td>\n",
       "      <td>2</td>\n",
       "      <td>4</td>\n",
       "      <td>4</td>\n",
       "      <td>1243</td>\n",
       "    </tr>\n",
       "    <tr>\n",
       "      <th>4</th>\n",
       "      <td>5</td>\n",
       "      <td>0.30</td>\n",
       "      <td>2</td>\n",
       "      <td>5</td>\n",
       "      <td>3</td>\n",
       "      <td>6</td>\n",
       "      <td>7</td>\n",
       "      <td>789</td>\n",
       "    </tr>\n",
       "  </tbody>\n",
       "</table>\n",
       "</div>"
      ],
      "text/plain": [
       "   Unnamed: 0  carat  cut  cut_ord  color  clarity  clarity_ord  price\n",
       "0           1   0.51    3        4      2        4            4   1749\n",
       "1           2   2.25    0        1      3        0            1   7069\n",
       "2           3   0.70    4        3      1        5            5   2757\n",
       "3           4   0.47    1        2      2        4            4   1243\n",
       "4           5   0.30    2        5      3        6            7    789"
      ]
     },
     "execution_count": 7,
     "metadata": {},
     "output_type": "execute_result"
    }
   ],
   "source": [
    "data.head()"
   ]
  },
  {
   "cell_type": "code",
   "execution_count": 8,
   "id": "118038dc-f0db-429c-86cf-d6f063117e00",
   "metadata": {},
   "outputs": [
    {
     "name": "stdout",
     "output_type": "stream",
     "text": [
      "<class 'pandas.core.frame.DataFrame'>\n",
      "RangeIndex: 50000 entries, 0 to 49999\n",
      "Data columns (total 8 columns):\n",
      " #   Column       Non-Null Count  Dtype  \n",
      "---  ------       --------------  -----  \n",
      " 0   Unnamed: 0   50000 non-null  int64  \n",
      " 1   carat        50000 non-null  float64\n",
      " 2   cut          50000 non-null  int32  \n",
      " 3   cut_ord      50000 non-null  int64  \n",
      " 4   color        50000 non-null  int32  \n",
      " 5   clarity      50000 non-null  int32  \n",
      " 6   clarity_ord  50000 non-null  int64  \n",
      " 7   price        50000 non-null  int64  \n",
      "dtypes: float64(1), int32(3), int64(4)\n",
      "memory usage: 2.5 MB\n"
     ]
    }
   ],
   "source": [
    "data.info()"
   ]
  },
  {
   "cell_type": "code",
   "execution_count": 9,
   "id": "1584fac9-09ee-436a-aa59-d744a17bf288",
   "metadata": {},
   "outputs": [],
   "source": [
    "from sklearn.model_selection import train_test_split\n",
    "from keras.models import Sequential\n",
    "from keras.callbacks import ModelCheckpoint"
   ]
  },
  {
   "cell_type": "code",
   "execution_count": 10,
   "id": "7b0b5ac1-fdb5-4f9b-bf03-ea7f77acc5ce",
   "metadata": {},
   "outputs": [],
   "source": [
    "data = data.iloc[:,1:8]"
   ]
  },
  {
   "cell_type": "code",
   "execution_count": 11,
   "id": "385b0bd9-679d-491e-846d-d890f1f285e0",
   "metadata": {},
   "outputs": [
    {
     "data": {
      "text/html": [
       "<div>\n",
       "<style scoped>\n",
       "    .dataframe tbody tr th:only-of-type {\n",
       "        vertical-align: middle;\n",
       "    }\n",
       "\n",
       "    .dataframe tbody tr th {\n",
       "        vertical-align: top;\n",
       "    }\n",
       "\n",
       "    .dataframe thead th {\n",
       "        text-align: right;\n",
       "    }\n",
       "</style>\n",
       "<table border=\"1\" class=\"dataframe\">\n",
       "  <thead>\n",
       "    <tr style=\"text-align: right;\">\n",
       "      <th></th>\n",
       "      <th>carat</th>\n",
       "      <th>cut</th>\n",
       "      <th>cut_ord</th>\n",
       "      <th>color</th>\n",
       "      <th>clarity</th>\n",
       "      <th>clarity_ord</th>\n",
       "      <th>price</th>\n",
       "    </tr>\n",
       "  </thead>\n",
       "  <tbody>\n",
       "    <tr>\n",
       "      <th>0</th>\n",
       "      <td>0.51</td>\n",
       "      <td>3</td>\n",
       "      <td>4</td>\n",
       "      <td>2</td>\n",
       "      <td>4</td>\n",
       "      <td>4</td>\n",
       "      <td>1749</td>\n",
       "    </tr>\n",
       "    <tr>\n",
       "      <th>1</th>\n",
       "      <td>2.25</td>\n",
       "      <td>0</td>\n",
       "      <td>1</td>\n",
       "      <td>3</td>\n",
       "      <td>0</td>\n",
       "      <td>1</td>\n",
       "      <td>7069</td>\n",
       "    </tr>\n",
       "    <tr>\n",
       "      <th>2</th>\n",
       "      <td>0.70</td>\n",
       "      <td>4</td>\n",
       "      <td>3</td>\n",
       "      <td>1</td>\n",
       "      <td>5</td>\n",
       "      <td>5</td>\n",
       "      <td>2757</td>\n",
       "    </tr>\n",
       "    <tr>\n",
       "      <th>3</th>\n",
       "      <td>0.47</td>\n",
       "      <td>1</td>\n",
       "      <td>2</td>\n",
       "      <td>2</td>\n",
       "      <td>4</td>\n",
       "      <td>4</td>\n",
       "      <td>1243</td>\n",
       "    </tr>\n",
       "    <tr>\n",
       "      <th>4</th>\n",
       "      <td>0.30</td>\n",
       "      <td>2</td>\n",
       "      <td>5</td>\n",
       "      <td>3</td>\n",
       "      <td>6</td>\n",
       "      <td>7</td>\n",
       "      <td>789</td>\n",
       "    </tr>\n",
       "  </tbody>\n",
       "</table>\n",
       "</div>"
      ],
      "text/plain": [
       "   carat  cut  cut_ord  color  clarity  clarity_ord  price\n",
       "0   0.51    3        4      2        4            4   1749\n",
       "1   2.25    0        1      3        0            1   7069\n",
       "2   0.70    4        3      1        5            5   2757\n",
       "3   0.47    1        2      2        4            4   1243\n",
       "4   0.30    2        5      3        6            7    789"
      ]
     },
     "execution_count": 11,
     "metadata": {},
     "output_type": "execute_result"
    }
   ],
   "source": [
    "data.head()"
   ]
  },
  {
   "cell_type": "code",
   "execution_count": 12,
   "id": "b730dad1-63cf-4a78-bdfd-0ca9477775a8",
   "metadata": {},
   "outputs": [
    {
     "name": "stdout",
     "output_type": "stream",
     "text": [
      "<class 'pandas.core.frame.DataFrame'>\n",
      "RangeIndex: 50000 entries, 0 to 49999\n",
      "Data columns (total 7 columns):\n",
      " #   Column       Non-Null Count  Dtype  \n",
      "---  ------       --------------  -----  \n",
      " 0   carat        50000 non-null  float64\n",
      " 1   cut          50000 non-null  int32  \n",
      " 2   cut_ord      50000 non-null  int64  \n",
      " 3   color        50000 non-null  int32  \n",
      " 4   clarity      50000 non-null  int32  \n",
      " 5   clarity_ord  50000 non-null  int64  \n",
      " 6   price        50000 non-null  int64  \n",
      "dtypes: float64(1), int32(3), int64(3)\n",
      "memory usage: 2.1 MB\n"
     ]
    }
   ],
   "source": [
    "data.info()"
   ]
  },
  {
   "cell_type": "code",
   "execution_count": 13,
   "id": "da78fd20-2253-4fef-8957-b939e1b899c4",
   "metadata": {},
   "outputs": [],
   "source": [
    "X = data.drop('price',axis = 1)\n",
    "y = data['price']"
   ]
  },
  {
   "cell_type": "code",
   "execution_count": 14,
   "id": "6abdc803-7b7a-45e6-b0c2-96f7c81d4ed9",
   "metadata": {},
   "outputs": [],
   "source": [
    "X_train,X_test,y_train,y_test = train_test_split(X,y, test_size=0.2,random_state=4)"
   ]
  },
  {
   "cell_type": "code",
   "execution_count": 15,
   "id": "1ce54e89-7edb-4aa4-9280-bef92d8b444c",
   "metadata": {},
   "outputs": [
    {
     "data": {
      "text/plain": [
       "((40000, 6), (10000, 6), (40000,), (10000,))"
      ]
     },
     "execution_count": 15,
     "metadata": {},
     "output_type": "execute_result"
    }
   ],
   "source": [
    "X_train.shape,X_test.shape,y_train.shape,y_test.shape"
   ]
  },
  {
   "cell_type": "code",
   "execution_count": 16,
   "id": "a4caffb8-096f-42a4-9f50-3cffa0d47e5e",
   "metadata": {},
   "outputs": [
    {
     "data": {
      "text/plain": [
       "6"
      ]
     },
     "execution_count": 16,
     "metadata": {},
     "output_type": "execute_result"
    }
   ],
   "source": [
    "X_train.shape[1]"
   ]
  },
  {
   "cell_type": "code",
   "execution_count": 17,
   "id": "41f76be3-45f0-4714-a839-6e50f6daa9e5",
   "metadata": {},
   "outputs": [],
   "source": [
    "model = Sequential()"
   ]
  },
  {
   "cell_type": "code",
   "execution_count": 18,
   "id": "0720df4e-2baa-45d7-81d7-70369b0e9628",
   "metadata": {},
   "outputs": [
    {
     "name": "stderr",
     "output_type": "stream",
     "text": [
      "C:\\Users\\USER\\anaconda3\\Anaconda\\Lib\\site-packages\\keras\\src\\layers\\core\\dense.py:87: UserWarning: Do not pass an `input_shape`/`input_dim` argument to a layer. When using Sequential models, prefer using an `Input(shape)` object as the first layer in the model instead.\n",
      "  super().__init__(activity_regularizer=activity_regularizer, **kwargs)\n"
     ]
    }
   ],
   "source": [
    "model.add(tf.keras.layers.Dense(units = 64, activation='relu', kernel_regularizer= tf.keras.regularizers.l2(0.01), input_shape = (X_train.shape[1],)))\n",
    "\n",
    "model.add(tf.keras.layers.Dense(units=32,activation= 'relu', kernel_regularizer= tf.keras.regularizers.l2(0.01)))\n",
    "\n",
    "\n",
    "model.add(tf.keras.layers.Dropout(0.5))\n",
    "\n",
    "model.add(tf.keras.layers.Dense(units=12, activation='relu', kernel_regularizer=tf.keras.regularizers.l2(0.01)))\n",
    "\n",
    "model.add(tf.keras.layers.Dense(units=1, activation='linear'))"
   ]
  },
  {
   "cell_type": "code",
   "execution_count": 19,
   "id": "c795c5d3-a3de-49f4-aaf8-c089560616a0",
   "metadata": {},
   "outputs": [],
   "source": [
    "model.compile(optimizer = tf.keras.optimizers.Adam(learning_rate=0.001), loss= 'mae', metrics=['mse','mae'])"
   ]
  },
  {
   "cell_type": "code",
   "execution_count": 20,
   "id": "b6d81201-9e7c-4ba3-bb48-a1f4bc4359a4",
   "metadata": {},
   "outputs": [
    {
     "data": {
      "text/html": [
       "<pre style=\"white-space:pre;overflow-x:auto;line-height:normal;font-family:Menlo,'DejaVu Sans Mono',consolas,'Courier New',monospace\"><span style=\"font-weight: bold\">Model: \"sequential\"</span>\n",
       "</pre>\n"
      ],
      "text/plain": [
       "\u001b[1mModel: \"sequential\"\u001b[0m\n"
      ]
     },
     "metadata": {},
     "output_type": "display_data"
    },
    {
     "data": {
      "text/html": [
       "<pre style=\"white-space:pre;overflow-x:auto;line-height:normal;font-family:Menlo,'DejaVu Sans Mono',consolas,'Courier New',monospace\">┏━━━━━━━━━━━━━━━━━━━━━━━━━━━━━━━━━━━━━━┳━━━━━━━━━━━━━━━━━━━━━━━━━━━━━┳━━━━━━━━━━━━━━━━━┓\n",
       "┃<span style=\"font-weight: bold\"> Layer (type)                         </span>┃<span style=\"font-weight: bold\"> Output Shape                </span>┃<span style=\"font-weight: bold\">         Param # </span>┃\n",
       "┡━━━━━━━━━━━━━━━━━━━━━━━━━━━━━━━━━━━━━━╇━━━━━━━━━━━━━━━━━━━━━━━━━━━━━╇━━━━━━━━━━━━━━━━━┩\n",
       "│ dense (<span style=\"color: #0087ff; text-decoration-color: #0087ff\">Dense</span>)                        │ (<span style=\"color: #00d7ff; text-decoration-color: #00d7ff\">None</span>, <span style=\"color: #00af00; text-decoration-color: #00af00\">64</span>)                  │             <span style=\"color: #00af00; text-decoration-color: #00af00\">448</span> │\n",
       "├──────────────────────────────────────┼─────────────────────────────┼─────────────────┤\n",
       "│ dense_1 (<span style=\"color: #0087ff; text-decoration-color: #0087ff\">Dense</span>)                      │ (<span style=\"color: #00d7ff; text-decoration-color: #00d7ff\">None</span>, <span style=\"color: #00af00; text-decoration-color: #00af00\">32</span>)                  │           <span style=\"color: #00af00; text-decoration-color: #00af00\">2,080</span> │\n",
       "├──────────────────────────────────────┼─────────────────────────────┼─────────────────┤\n",
       "│ dropout (<span style=\"color: #0087ff; text-decoration-color: #0087ff\">Dropout</span>)                    │ (<span style=\"color: #00d7ff; text-decoration-color: #00d7ff\">None</span>, <span style=\"color: #00af00; text-decoration-color: #00af00\">32</span>)                  │               <span style=\"color: #00af00; text-decoration-color: #00af00\">0</span> │\n",
       "├──────────────────────────────────────┼─────────────────────────────┼─────────────────┤\n",
       "│ dense_2 (<span style=\"color: #0087ff; text-decoration-color: #0087ff\">Dense</span>)                      │ (<span style=\"color: #00d7ff; text-decoration-color: #00d7ff\">None</span>, <span style=\"color: #00af00; text-decoration-color: #00af00\">12</span>)                  │             <span style=\"color: #00af00; text-decoration-color: #00af00\">396</span> │\n",
       "├──────────────────────────────────────┼─────────────────────────────┼─────────────────┤\n",
       "│ dense_3 (<span style=\"color: #0087ff; text-decoration-color: #0087ff\">Dense</span>)                      │ (<span style=\"color: #00d7ff; text-decoration-color: #00d7ff\">None</span>, <span style=\"color: #00af00; text-decoration-color: #00af00\">1</span>)                   │              <span style=\"color: #00af00; text-decoration-color: #00af00\">13</span> │\n",
       "└──────────────────────────────────────┴─────────────────────────────┴─────────────────┘\n",
       "</pre>\n"
      ],
      "text/plain": [
       "┏━━━━━━━━━━━━━━━━━━━━━━━━━━━━━━━━━━━━━━┳━━━━━━━━━━━━━━━━━━━━━━━━━━━━━┳━━━━━━━━━━━━━━━━━┓\n",
       "┃\u001b[1m \u001b[0m\u001b[1mLayer (type)                        \u001b[0m\u001b[1m \u001b[0m┃\u001b[1m \u001b[0m\u001b[1mOutput Shape               \u001b[0m\u001b[1m \u001b[0m┃\u001b[1m \u001b[0m\u001b[1m        Param #\u001b[0m\u001b[1m \u001b[0m┃\n",
       "┡━━━━━━━━━━━━━━━━━━━━━━━━━━━━━━━━━━━━━━╇━━━━━━━━━━━━━━━━━━━━━━━━━━━━━╇━━━━━━━━━━━━━━━━━┩\n",
       "│ dense (\u001b[38;5;33mDense\u001b[0m)                        │ (\u001b[38;5;45mNone\u001b[0m, \u001b[38;5;34m64\u001b[0m)                  │             \u001b[38;5;34m448\u001b[0m │\n",
       "├──────────────────────────────────────┼─────────────────────────────┼─────────────────┤\n",
       "│ dense_1 (\u001b[38;5;33mDense\u001b[0m)                      │ (\u001b[38;5;45mNone\u001b[0m, \u001b[38;5;34m32\u001b[0m)                  │           \u001b[38;5;34m2,080\u001b[0m │\n",
       "├──────────────────────────────────────┼─────────────────────────────┼─────────────────┤\n",
       "│ dropout (\u001b[38;5;33mDropout\u001b[0m)                    │ (\u001b[38;5;45mNone\u001b[0m, \u001b[38;5;34m32\u001b[0m)                  │               \u001b[38;5;34m0\u001b[0m │\n",
       "├──────────────────────────────────────┼─────────────────────────────┼─────────────────┤\n",
       "│ dense_2 (\u001b[38;5;33mDense\u001b[0m)                      │ (\u001b[38;5;45mNone\u001b[0m, \u001b[38;5;34m12\u001b[0m)                  │             \u001b[38;5;34m396\u001b[0m │\n",
       "├──────────────────────────────────────┼─────────────────────────────┼─────────────────┤\n",
       "│ dense_3 (\u001b[38;5;33mDense\u001b[0m)                      │ (\u001b[38;5;45mNone\u001b[0m, \u001b[38;5;34m1\u001b[0m)                   │              \u001b[38;5;34m13\u001b[0m │\n",
       "└──────────────────────────────────────┴─────────────────────────────┴─────────────────┘\n"
      ]
     },
     "metadata": {},
     "output_type": "display_data"
    },
    {
     "data": {
      "text/html": [
       "<pre style=\"white-space:pre;overflow-x:auto;line-height:normal;font-family:Menlo,'DejaVu Sans Mono',consolas,'Courier New',monospace\"><span style=\"font-weight: bold\"> Total params: </span><span style=\"color: #00af00; text-decoration-color: #00af00\">2,937</span> (11.47 KB)\n",
       "</pre>\n"
      ],
      "text/plain": [
       "\u001b[1m Total params: \u001b[0m\u001b[38;5;34m2,937\u001b[0m (11.47 KB)\n"
      ]
     },
     "metadata": {},
     "output_type": "display_data"
    },
    {
     "data": {
      "text/html": [
       "<pre style=\"white-space:pre;overflow-x:auto;line-height:normal;font-family:Menlo,'DejaVu Sans Mono',consolas,'Courier New',monospace\"><span style=\"font-weight: bold\"> Trainable params: </span><span style=\"color: #00af00; text-decoration-color: #00af00\">2,937</span> (11.47 KB)\n",
       "</pre>\n"
      ],
      "text/plain": [
       "\u001b[1m Trainable params: \u001b[0m\u001b[38;5;34m2,937\u001b[0m (11.47 KB)\n"
      ]
     },
     "metadata": {},
     "output_type": "display_data"
    },
    {
     "data": {
      "text/html": [
       "<pre style=\"white-space:pre;overflow-x:auto;line-height:normal;font-family:Menlo,'DejaVu Sans Mono',consolas,'Courier New',monospace\"><span style=\"font-weight: bold\"> Non-trainable params: </span><span style=\"color: #00af00; text-decoration-color: #00af00\">0</span> (0.00 B)\n",
       "</pre>\n"
      ],
      "text/plain": [
       "\u001b[1m Non-trainable params: \u001b[0m\u001b[38;5;34m0\u001b[0m (0.00 B)\n"
      ]
     },
     "metadata": {},
     "output_type": "display_data"
    }
   ],
   "source": [
    "model.summary()"
   ]
  },
  {
   "cell_type": "code",
   "execution_count": 21,
   "id": "8b277a81-8694-4188-a047-fccbbc184adb",
   "metadata": {},
   "outputs": [],
   "source": [
    "checkpoint = ModelCheckpoint('Model_save.keras', monitor='val_loss',save_best_only=True)"
   ]
  },
  {
   "cell_type": "code",
   "execution_count": 22,
   "id": "e3f7341c-992b-426d-bc60-37cfbd995bae",
   "metadata": {},
   "outputs": [
    {
     "name": "stdout",
     "output_type": "stream",
     "text": [
      "Epoch 1/150\n",
      "\u001b[1m800/800\u001b[0m \u001b[32m━━━━━━━━━━━━━━━━━━━━\u001b[0m\u001b[37m\u001b[0m \u001b[1m10s\u001b[0m 5ms/step - loss: 3364.1680 - mae: 3362.9524 - mse: 24846578.0000 - val_loss: 2388.9199 - val_mae: 2385.2771 - val_mse: 14185090.0000\n",
      "Epoch 2/150\n",
      "\u001b[1m800/800\u001b[0m \u001b[32m━━━━━━━━━━━━━━━━━━━━\u001b[0m\u001b[37m\u001b[0m \u001b[1m3s\u001b[0m 4ms/step - loss: 2044.5133 - mae: 2039.3029 - mse: 10908063.0000 - val_loss: 907.4395 - val_mae: 898.4632 - val_mse: 2665441.5000\n",
      "Epoch 3/150\n",
      "\u001b[1m800/800\u001b[0m \u001b[32m━━━━━━━━━━━━━━━━━━━━\u001b[0m\u001b[37m\u001b[0m \u001b[1m3s\u001b[0m 4ms/step - loss: 1120.8254 - mae: 1111.6016 - mse: 3757664.0000 - val_loss: 789.5375 - val_mae: 779.9934 - val_mse: 2169678.7500\n",
      "Epoch 4/150\n",
      "\u001b[1m800/800\u001b[0m \u001b[32m━━━━━━━━━━━━━━━━━━━━\u001b[0m\u001b[37m\u001b[0m \u001b[1m5s\u001b[0m 4ms/step - loss: 1007.4702 - mae: 997.8486 - mse: 3141624.0000 - val_loss: 677.3317 - val_mae: 667.4742 - val_mse: 1651490.5000\n",
      "Epoch 5/150\n",
      "\u001b[1m800/800\u001b[0m \u001b[32m━━━━━━━━━━━━━━━━━━━━\u001b[0m\u001b[37m\u001b[0m \u001b[1m3s\u001b[0m 4ms/step - loss: 973.7819 - mae: 963.8699 - mse: 3009473.2500 - val_loss: 645.1704 - val_mae: 635.1114 - val_mse: 1531931.6250\n",
      "Epoch 6/150\n",
      "\u001b[1m800/800\u001b[0m \u001b[32m━━━━━━━━━━━━━━━━━━━━\u001b[0m\u001b[37m\u001b[0m \u001b[1m3s\u001b[0m 4ms/step - loss: 932.9277 - mae: 922.7916 - mse: 2754792.5000 - val_loss: 632.0071 - val_mae: 621.7109 - val_mse: 1392715.5000\n",
      "Epoch 7/150\n",
      "\u001b[1m800/800\u001b[0m \u001b[32m━━━━━━━━━━━━━━━━━━━━\u001b[0m\u001b[37m\u001b[0m \u001b[1m3s\u001b[0m 4ms/step - loss: 911.5872 - mae: 901.2330 - mse: 2650802.7500 - val_loss: 601.5710 - val_mae: 591.1823 - val_mse: 1315617.0000\n",
      "Epoch 8/150\n",
      "\u001b[1m800/800\u001b[0m \u001b[32m━━━━━━━━━━━━━━━━━━━━\u001b[0m\u001b[37m\u001b[0m \u001b[1m5s\u001b[0m 4ms/step - loss: 884.2404 - mae: 873.7086 - mse: 2476441.0000 - val_loss: 563.8027 - val_mae: 553.0844 - val_mse: 1158185.7500\n",
      "Epoch 9/150\n",
      "\u001b[1m800/800\u001b[0m \u001b[32m━━━━━━━━━━━━━━━━━━━━\u001b[0m\u001b[37m\u001b[0m \u001b[1m3s\u001b[0m 4ms/step - loss: 895.9041 - mae: 885.1389 - mse: 2503056.5000 - val_loss: 550.4924 - val_mae: 539.5989 - val_mse: 1133501.1250\n",
      "Epoch 10/150\n",
      "\u001b[1m800/800\u001b[0m \u001b[32m━━━━━━━━━━━━━━━━━━━━\u001b[0m\u001b[37m\u001b[0m \u001b[1m3s\u001b[0m 4ms/step - loss: 886.8014 - mae: 875.9135 - mse: 2577125.5000 - val_loss: 549.3444 - val_mae: 538.2526 - val_mse: 1120826.0000\n",
      "Epoch 11/150\n",
      "\u001b[1m800/800\u001b[0m \u001b[32m━━━━━━━━━━━━━━━━━━━━\u001b[0m\u001b[37m\u001b[0m \u001b[1m5s\u001b[0m 4ms/step - loss: 887.6348 - mae: 876.5508 - mse: 2538329.5000 - val_loss: 577.1069 - val_mae: 565.9270 - val_mse: 1150260.1250\n",
      "Epoch 12/150\n",
      "\u001b[1m800/800\u001b[0m \u001b[32m━━━━━━━━━━━━━━━━━━━━\u001b[0m\u001b[37m\u001b[0m \u001b[1m3s\u001b[0m 4ms/step - loss: 888.1982 - mae: 876.9830 - mse: 2537794.7500 - val_loss: 564.7138 - val_mae: 553.4395 - val_mse: 1170033.8750\n",
      "Epoch 13/150\n",
      "\u001b[1m800/800\u001b[0m \u001b[32m━━━━━━━━━━━━━━━━━━━━\u001b[0m\u001b[37m\u001b[0m \u001b[1m6s\u001b[0m 5ms/step - loss: 865.2773 - mae: 853.9880 - mse: 2363814.7500 - val_loss: 585.5994 - val_mae: 574.2560 - val_mse: 1127851.7500\n",
      "Epoch 14/150\n",
      "\u001b[1m800/800\u001b[0m \u001b[32m━━━━━━━━━━━━━━━━━━━━\u001b[0m\u001b[37m\u001b[0m \u001b[1m3s\u001b[0m 4ms/step - loss: 874.2534 - mae: 862.9014 - mse: 2447929.5000 - val_loss: 563.9058 - val_mae: 552.4468 - val_mse: 1127084.1250\n",
      "Epoch 15/150\n",
      "\u001b[1m800/800\u001b[0m \u001b[32m━━━━━━━━━━━━━━━━━━━━\u001b[0m\u001b[37m\u001b[0m \u001b[1m5s\u001b[0m 4ms/step - loss: 859.8279 - mae: 848.3624 - mse: 2387648.2500 - val_loss: 571.7661 - val_mae: 560.2690 - val_mse: 1110047.2500\n",
      "Epoch 16/150\n",
      "\u001b[1m800/800\u001b[0m \u001b[32m━━━━━━━━━━━━━━━━━━━━\u001b[0m\u001b[37m\u001b[0m \u001b[1m3s\u001b[0m 4ms/step - loss: 863.6290 - mae: 852.0779 - mse: 2422103.7500 - val_loss: 531.0981 - val_mae: 519.5049 - val_mse: 1035697.6875\n",
      "Epoch 17/150\n",
      "\u001b[1m800/800\u001b[0m \u001b[32m━━━━━━━━━━━━━━━━━━━━\u001b[0m\u001b[37m\u001b[0m \u001b[1m7s\u001b[0m 6ms/step - loss: 852.0693 - mae: 840.4406 - mse: 2411496.5000 - val_loss: 510.5841 - val_mae: 498.8530 - val_mse: 966567.4375\n",
      "Epoch 18/150\n",
      "\u001b[1m800/800\u001b[0m \u001b[32m━━━━━━━━━━━━━━━━━━━━\u001b[0m\u001b[37m\u001b[0m \u001b[1m3s\u001b[0m 3ms/step - loss: 844.3614 - mae: 832.6509 - mse: 2278908.2500 - val_loss: 534.9255 - val_mae: 523.1638 - val_mse: 1046908.9375\n",
      "Epoch 19/150\n",
      "\u001b[1m800/800\u001b[0m \u001b[32m━━━━━━━━━━━━━━━━━━━━\u001b[0m\u001b[37m\u001b[0m \u001b[1m2s\u001b[0m 3ms/step - loss: 847.5763 - mae: 835.7932 - mse: 2289170.5000 - val_loss: 554.7917 - val_mae: 543.0000 - val_mse: 1098928.0000\n",
      "Epoch 20/150\n",
      "\u001b[1m800/800\u001b[0m \u001b[32m━━━━━━━━━━━━━━━━━━━━\u001b[0m\u001b[37m\u001b[0m \u001b[1m2s\u001b[0m 2ms/step - loss: 843.2641 - mae: 831.4958 - mse: 2300244.7500 - val_loss: 523.7892 - val_mae: 511.9709 - val_mse: 998727.3750\n",
      "Epoch 21/150\n",
      "\u001b[1m800/800\u001b[0m \u001b[32m━━━━━━━━━━━━━━━━━━━━\u001b[0m\u001b[37m\u001b[0m \u001b[1m3s\u001b[0m 2ms/step - loss: 828.5217 - mae: 816.7273 - mse: 2273609.0000 - val_loss: 535.9240 - val_mae: 524.1196 - val_mse: 987579.0625\n",
      "Epoch 22/150\n",
      "\u001b[1m800/800\u001b[0m \u001b[32m━━━━━━━━━━━━━━━━━━━━\u001b[0m\u001b[37m\u001b[0m \u001b[1m3s\u001b[0m 2ms/step - loss: 805.6780 - mae: 793.8692 - mse: 2099606.7500 - val_loss: 501.6417 - val_mae: 489.8013 - val_mse: 889764.3125\n",
      "Epoch 23/150\n",
      "\u001b[1m800/800\u001b[0m \u001b[32m━━━━━━━━━━━━━━━━━━━━\u001b[0m\u001b[37m\u001b[0m \u001b[1m2s\u001b[0m 3ms/step - loss: 822.8473 - mae: 811.0224 - mse: 2245254.2500 - val_loss: 496.7415 - val_mae: 484.8995 - val_mse: 887182.5625\n",
      "Epoch 24/150\n",
      "\u001b[1m800/800\u001b[0m \u001b[32m━━━━━━━━━━━━━━━━━━━━\u001b[0m\u001b[37m\u001b[0m \u001b[1m2s\u001b[0m 2ms/step - loss: 839.7647 - mae: 827.9816 - mse: 2214107.0000 - val_loss: 496.8507 - val_mae: 485.1534 - val_mse: 903038.7500\n",
      "Epoch 25/150\n",
      "\u001b[1m800/800\u001b[0m \u001b[32m━━━━━━━━━━━━━━━━━━━━\u001b[0m\u001b[37m\u001b[0m \u001b[1m3s\u001b[0m 2ms/step - loss: 814.9580 - mae: 803.3176 - mse: 2132196.7500 - val_loss: 494.7989 - val_mae: 483.2414 - val_mse: 898123.2500\n",
      "Epoch 26/150\n",
      "\u001b[1m800/800\u001b[0m \u001b[32m━━━━━━━━━━━━━━━━━━━━\u001b[0m\u001b[37m\u001b[0m \u001b[1m3s\u001b[0m 2ms/step - loss: 814.1569 - mae: 802.6292 - mse: 2171531.0000 - val_loss: 495.4607 - val_mae: 483.9258 - val_mse: 914671.3750\n",
      "Epoch 27/150\n",
      "\u001b[1m800/800\u001b[0m \u001b[32m━━━━━━━━━━━━━━━━━━━━\u001b[0m\u001b[37m\u001b[0m \u001b[1m3s\u001b[0m 2ms/step - loss: 806.4965 - mae: 794.9804 - mse: 2073303.7500 - val_loss: 505.5141 - val_mae: 494.1380 - val_mse: 938840.5625\n",
      "Epoch 28/150\n",
      "\u001b[1m800/800\u001b[0m \u001b[32m━━━━━━━━━━━━━━━━━━━━\u001b[0m\u001b[37m\u001b[0m \u001b[1m2s\u001b[0m 3ms/step - loss: 818.2760 - mae: 806.9246 - mse: 2150223.7500 - val_loss: 510.7148 - val_mae: 499.3082 - val_mse: 924006.5625\n",
      "Epoch 29/150\n",
      "\u001b[1m800/800\u001b[0m \u001b[32m━━━━━━━━━━━━━━━━━━━━\u001b[0m\u001b[37m\u001b[0m \u001b[1m2s\u001b[0m 2ms/step - loss: 826.3183 - mae: 814.9894 - mse: 2282208.2500 - val_loss: 474.6407 - val_mae: 463.2650 - val_mse: 879264.7500\n",
      "Epoch 30/150\n",
      "\u001b[1m800/800\u001b[0m \u001b[32m━━━━━━━━━━━━━━━━━━━━\u001b[0m\u001b[37m\u001b[0m \u001b[1m3s\u001b[0m 2ms/step - loss: 798.7447 - mae: 787.5225 - mse: 2182044.5000 - val_loss: 474.7353 - val_mae: 463.6330 - val_mse: 856169.4375\n",
      "Epoch 31/150\n",
      "\u001b[1m800/800\u001b[0m \u001b[32m━━━━━━━━━━━━━━━━━━━━\u001b[0m\u001b[37m\u001b[0m \u001b[1m2s\u001b[0m 2ms/step - loss: 809.8386 - mae: 798.7948 - mse: 2141289.7500 - val_loss: 485.7669 - val_mae: 474.9442 - val_mse: 868666.9375\n",
      "Epoch 32/150\n",
      "\u001b[1m800/800\u001b[0m \u001b[32m━━━━━━━━━━━━━━━━━━━━\u001b[0m\u001b[37m\u001b[0m \u001b[1m2s\u001b[0m 3ms/step - loss: 785.9943 - mae: 775.1556 - mse: 2006811.5000 - val_loss: 471.1514 - val_mae: 460.3757 - val_mse: 829655.5625\n",
      "Epoch 33/150\n",
      "\u001b[1m800/800\u001b[0m \u001b[32m━━━━━━━━━━━━━━━━━━━━\u001b[0m\u001b[37m\u001b[0m \u001b[1m2s\u001b[0m 2ms/step - loss: 785.9608 - mae: 775.2228 - mse: 2119376.5000 - val_loss: 467.6369 - val_mae: 456.8997 - val_mse: 849652.2500\n",
      "Epoch 34/150\n",
      "\u001b[1m800/800\u001b[0m \u001b[32m━━━━━━━━━━━━━━━━━━━━\u001b[0m\u001b[37m\u001b[0m \u001b[1m3s\u001b[0m 2ms/step - loss: 798.7127 - mae: 788.1145 - mse: 2226485.0000 - val_loss: 483.2746 - val_mae: 472.7981 - val_mse: 880878.8125\n",
      "Epoch 35/150\n",
      "\u001b[1m800/800\u001b[0m \u001b[32m━━━━━━━━━━━━━━━━━━━━\u001b[0m\u001b[37m\u001b[0m \u001b[1m3s\u001b[0m 3ms/step - loss: 794.5021 - mae: 784.0990 - mse: 2083812.5000 - val_loss: 477.4913 - val_mae: 467.1693 - val_mse: 833258.8125\n",
      "Epoch 36/150\n",
      "\u001b[1m800/800\u001b[0m \u001b[32m━━━━━━━━━━━━━━━━━━━━\u001b[0m\u001b[37m\u001b[0m \u001b[1m2s\u001b[0m 3ms/step - loss: 798.8676 - mae: 788.5807 - mse: 2186280.2500 - val_loss: 469.1037 - val_mae: 458.9425 - val_mse: 813008.7500\n",
      "Epoch 37/150\n",
      "\u001b[1m800/800\u001b[0m \u001b[32m━━━━━━━━━━━━━━━━━━━━\u001b[0m\u001b[37m\u001b[0m \u001b[1m2s\u001b[0m 2ms/step - loss: 772.2020 - mae: 762.0081 - mse: 2005279.0000 - val_loss: 466.9676 - val_mae: 456.8716 - val_mse: 825511.0625\n",
      "Epoch 38/150\n",
      "\u001b[1m800/800\u001b[0m \u001b[32m━━━━━━━━━━━━━━━━━━━━\u001b[0m\u001b[37m\u001b[0m \u001b[1m3s\u001b[0m 3ms/step - loss: 782.8938 - mae: 772.8554 - mse: 2116037.7500 - val_loss: 459.1942 - val_mae: 449.2242 - val_mse: 796137.0000\n",
      "Epoch 39/150\n",
      "\u001b[1m800/800\u001b[0m \u001b[32m━━━━━━━━━━━━━━━━━━━━\u001b[0m\u001b[37m\u001b[0m \u001b[1m2s\u001b[0m 2ms/step - loss: 774.3066 - mae: 764.3968 - mse: 2033316.3750 - val_loss: 471.4119 - val_mae: 461.5519 - val_mse: 797503.8750\n",
      "Epoch 40/150\n",
      "\u001b[1m800/800\u001b[0m \u001b[32m━━━━━━━━━━━━━━━━━━━━\u001b[0m\u001b[37m\u001b[0m \u001b[1m3s\u001b[0m 2ms/step - loss: 799.5358 - mae: 789.7279 - mse: 2145657.5000 - val_loss: 517.5021 - val_mae: 507.8572 - val_mse: 960725.5000\n",
      "Epoch 41/150\n",
      "\u001b[1m800/800\u001b[0m \u001b[32m━━━━━━━━━━━━━━━━━━━━\u001b[0m\u001b[37m\u001b[0m \u001b[1m3s\u001b[0m 3ms/step - loss: 778.7585 - mae: 769.1262 - mse: 1984281.7500 - val_loss: 468.9663 - val_mae: 459.4611 - val_mse: 823059.5625\n",
      "Epoch 42/150\n",
      "\u001b[1m800/800\u001b[0m \u001b[32m━━━━━━━━━━━━━━━━━━━━\u001b[0m\u001b[37m\u001b[0m \u001b[1m2s\u001b[0m 2ms/step - loss: 771.8048 - mae: 762.3124 - mse: 2030620.0000 - val_loss: 475.6099 - val_mae: 466.1761 - val_mse: 849289.6250\n",
      "Epoch 43/150\n",
      "\u001b[1m800/800\u001b[0m \u001b[32m━━━━━━━━━━━━━━━━━━━━\u001b[0m\u001b[37m\u001b[0m \u001b[1m2s\u001b[0m 2ms/step - loss: 780.3827 - mae: 771.0276 - mse: 2068939.3750 - val_loss: 496.9648 - val_mae: 487.6952 - val_mse: 887153.8125\n",
      "Epoch 44/150\n",
      "\u001b[1m800/800\u001b[0m \u001b[32m━━━━━━━━━━━━━━━━━━━━\u001b[0m\u001b[37m\u001b[0m \u001b[1m3s\u001b[0m 3ms/step - loss: 776.6486 - mae: 767.3999 - mse: 2088998.8750 - val_loss: 463.2444 - val_mae: 454.0936 - val_mse: 787302.5000\n",
      "Epoch 45/150\n",
      "\u001b[1m800/800\u001b[0m \u001b[32m━━━━━━━━━━━━━━━━━━━━\u001b[0m\u001b[37m\u001b[0m \u001b[1m2s\u001b[0m 3ms/step - loss: 786.8722 - mae: 777.7676 - mse: 2145196.2500 - val_loss: 454.7309 - val_mae: 445.7032 - val_mse: 789386.6250\n",
      "Epoch 46/150\n",
      "\u001b[1m800/800\u001b[0m \u001b[32m━━━━━━━━━━━━━━━━━━━━\u001b[0m\u001b[37m\u001b[0m \u001b[1m3s\u001b[0m 3ms/step - loss: 790.3489 - mae: 781.3744 - mse: 2265065.7500 - val_loss: 523.4443 - val_mae: 514.6347 - val_mse: 949796.5625\n",
      "Epoch 47/150\n",
      "\u001b[1m800/800\u001b[0m \u001b[32m━━━━━━━━━━━━━━━━━━━━\u001b[0m\u001b[37m\u001b[0m \u001b[1m2s\u001b[0m 2ms/step - loss: 770.6693 - mae: 761.8672 - mse: 2020567.0000 - val_loss: 454.1116 - val_mae: 445.3945 - val_mse: 785345.5625\n",
      "Epoch 48/150\n",
      "\u001b[1m800/800\u001b[0m \u001b[32m━━━━━━━━━━━━━━━━━━━━\u001b[0m\u001b[37m\u001b[0m \u001b[1m2s\u001b[0m 2ms/step - loss: 752.0879 - mae: 743.3999 - mse: 1889205.7500 - val_loss: 456.1760 - val_mae: 447.5300 - val_mse: 804173.5000\n",
      "Epoch 49/150\n",
      "\u001b[1m800/800\u001b[0m \u001b[32m━━━━━━━━━━━━━━━━━━━━\u001b[0m\u001b[37m\u001b[0m \u001b[1m2s\u001b[0m 3ms/step - loss: 782.5945 - mae: 774.0327 - mse: 2124451.2500 - val_loss: 449.7923 - val_mae: 441.1626 - val_mse: 759939.9375\n",
      "Epoch 50/150\n",
      "\u001b[1m800/800\u001b[0m \u001b[32m━━━━━━━━━━━━━━━━━━━━\u001b[0m\u001b[37m\u001b[0m \u001b[1m2s\u001b[0m 2ms/step - loss: 773.4974 - mae: 764.9371 - mse: 2026342.7500 - val_loss: 456.4835 - val_mae: 448.0520 - val_mse: 781899.8750\n",
      "Epoch 51/150\n",
      "\u001b[1m800/800\u001b[0m \u001b[32m━━━━━━━━━━━━━━━━━━━━\u001b[0m\u001b[37m\u001b[0m \u001b[1m3s\u001b[0m 3ms/step - loss: 758.0284 - mae: 749.6187 - mse: 1982405.1250 - val_loss: 468.9374 - val_mae: 460.6503 - val_mse: 810599.1875\n",
      "Epoch 52/150\n",
      "\u001b[1m800/800\u001b[0m \u001b[32m━━━━━━━━━━━━━━━━━━━━\u001b[0m\u001b[37m\u001b[0m \u001b[1m2s\u001b[0m 2ms/step - loss: 758.9440 - mae: 750.6843 - mse: 1978725.7500 - val_loss: 446.4184 - val_mae: 438.2165 - val_mse: 743789.7500\n",
      "Epoch 53/150\n",
      "\u001b[1m800/800\u001b[0m \u001b[32m━━━━━━━━━━━━━━━━━━━━\u001b[0m\u001b[37m\u001b[0m \u001b[1m2s\u001b[0m 2ms/step - loss: 764.2537 - mae: 756.0347 - mse: 1990514.8750 - val_loss: 473.5227 - val_mae: 465.4707 - val_mse: 836403.3125\n",
      "Epoch 54/150\n",
      "\u001b[1m800/800\u001b[0m \u001b[32m━━━━━━━━━━━━━━━━━━━━\u001b[0m\u001b[37m\u001b[0m \u001b[1m2s\u001b[0m 3ms/step - loss: 771.2568 - mae: 763.2177 - mse: 2026602.8750 - val_loss: 454.2538 - val_mae: 446.3558 - val_mse: 783586.5000\n",
      "Epoch 55/150\n",
      "\u001b[1m800/800\u001b[0m \u001b[32m━━━━━━━━━━━━━━━━━━━━\u001b[0m\u001b[37m\u001b[0m \u001b[1m2s\u001b[0m 2ms/step - loss: 751.4326 - mae: 743.5419 - mse: 1913714.2500 - val_loss: 453.8561 - val_mae: 446.0212 - val_mse: 749803.7500\n",
      "Epoch 56/150\n",
      "\u001b[1m800/800\u001b[0m \u001b[32m━━━━━━━━━━━━━━━━━━━━\u001b[0m\u001b[37m\u001b[0m \u001b[1m2s\u001b[0m 3ms/step - loss: 758.7363 - mae: 750.9403 - mse: 2012128.3750 - val_loss: 452.5154 - val_mae: 444.7859 - val_mse: 762872.5625\n",
      "Epoch 57/150\n",
      "\u001b[1m800/800\u001b[0m \u001b[32m━━━━━━━━━━━━━━━━━━━━\u001b[0m\u001b[37m\u001b[0m \u001b[1m2s\u001b[0m 2ms/step - loss: 754.3267 - mae: 746.6296 - mse: 1955848.1250 - val_loss: 445.6410 - val_mae: 437.9283 - val_mse: 755695.9375\n",
      "Epoch 58/150\n",
      "\u001b[1m800/800\u001b[0m \u001b[32m━━━━━━━━━━━━━━━━━━━━\u001b[0m\u001b[37m\u001b[0m \u001b[1m2s\u001b[0m 3ms/step - loss: 751.0150 - mae: 743.3693 - mse: 1976079.7500 - val_loss: 459.8723 - val_mae: 452.3294 - val_mse: 801546.1250\n",
      "Epoch 59/150\n",
      "\u001b[1m800/800\u001b[0m \u001b[32m━━━━━━━━━━━━━━━━━━━━\u001b[0m\u001b[37m\u001b[0m \u001b[1m2s\u001b[0m 3ms/step - loss: 759.2120 - mae: 751.6805 - mse: 2066985.2500 - val_loss: 445.1246 - val_mae: 437.7273 - val_mse: 742828.7500\n",
      "Epoch 60/150\n",
      "\u001b[1m800/800\u001b[0m \u001b[32m━━━━━━━━━━━━━━━━━━━━\u001b[0m\u001b[37m\u001b[0m \u001b[1m2s\u001b[0m 3ms/step - loss: 743.2166 - mae: 735.8590 - mse: 1908883.3750 - val_loss: 444.4343 - val_mae: 437.0682 - val_mse: 743944.5625\n",
      "Epoch 61/150\n",
      "\u001b[1m800/800\u001b[0m \u001b[32m━━━━━━━━━━━━━━━━━━━━\u001b[0m\u001b[37m\u001b[0m \u001b[1m2s\u001b[0m 2ms/step - loss: 739.8795 - mae: 732.5463 - mse: 1911644.8750 - val_loss: 446.2196 - val_mae: 438.9433 - val_mse: 758564.5000\n",
      "Epoch 62/150\n",
      "\u001b[1m800/800\u001b[0m \u001b[32m━━━━━━━━━━━━━━━━━━━━\u001b[0m\u001b[37m\u001b[0m \u001b[1m3s\u001b[0m 3ms/step - loss: 745.3520 - mae: 738.0672 - mse: 1901236.0000 - val_loss: 477.8071 - val_mae: 470.6003 - val_mse: 817989.2500\n",
      "Epoch 63/150\n",
      "\u001b[1m800/800\u001b[0m \u001b[32m━━━━━━━━━━━━━━━━━━━━\u001b[0m\u001b[37m\u001b[0m \u001b[1m2s\u001b[0m 2ms/step - loss: 730.5865 - mae: 723.3560 - mse: 1933044.5000 - val_loss: 453.0050 - val_mae: 445.9221 - val_mse: 770526.2500\n",
      "Epoch 64/150\n",
      "\u001b[1m800/800\u001b[0m \u001b[32m━━━━━━━━━━━━━━━━━━━━\u001b[0m\u001b[37m\u001b[0m \u001b[1m2s\u001b[0m 3ms/step - loss: 734.2562 - mae: 727.1727 - mse: 1877958.8750 - val_loss: 450.3628 - val_mae: 443.3062 - val_mse: 758777.6875\n",
      "Epoch 65/150\n",
      "\u001b[1m800/800\u001b[0m \u001b[32m━━━━━━━━━━━━━━━━━━━━\u001b[0m\u001b[37m\u001b[0m \u001b[1m2s\u001b[0m 2ms/step - loss: 723.7874 - mae: 716.6870 - mse: 1800566.7500 - val_loss: 454.8149 - val_mae: 447.7496 - val_mse: 769946.4375\n",
      "Epoch 66/150\n",
      "\u001b[1m800/800\u001b[0m \u001b[32m━━━━━━━━━━━━━━━━━━━━\u001b[0m\u001b[37m\u001b[0m \u001b[1m3s\u001b[0m 3ms/step - loss: 741.2836 - mae: 734.2145 - mse: 1946646.3750 - val_loss: 466.8613 - val_mae: 459.8851 - val_mse: 813763.0000\n",
      "Epoch 67/150\n",
      "\u001b[1m800/800\u001b[0m \u001b[32m━━━━━━━━━━━━━━━━━━━━\u001b[0m\u001b[37m\u001b[0m \u001b[1m3s\u001b[0m 3ms/step - loss: 714.5522 - mae: 707.5883 - mse: 1765340.8750 - val_loss: 449.3083 - val_mae: 442.4001 - val_mse: 750774.1875\n",
      "Epoch 68/150\n",
      "\u001b[1m800/800\u001b[0m \u001b[32m━━━━━━━━━━━━━━━━━━━━\u001b[0m\u001b[37m\u001b[0m \u001b[1m2s\u001b[0m 2ms/step - loss: 730.7655 - mae: 723.8536 - mse: 1841890.0000 - val_loss: 462.1388 - val_mae: 455.3041 - val_mse: 796542.0000\n",
      "Epoch 69/150\n",
      "\u001b[1m800/800\u001b[0m \u001b[32m━━━━━━━━━━━━━━━━━━━━\u001b[0m\u001b[37m\u001b[0m \u001b[1m3s\u001b[0m 3ms/step - loss: 731.9175 - mae: 725.0989 - mse: 1895332.3750 - val_loss: 445.9285 - val_mae: 439.0831 - val_mse: 723963.6875\n",
      "Epoch 70/150\n",
      "\u001b[1m800/800\u001b[0m \u001b[32m━━━━━━━━━━━━━━━━━━━━\u001b[0m\u001b[37m\u001b[0m \u001b[1m2s\u001b[0m 3ms/step - loss: 733.8311 - mae: 727.0306 - mse: 1979899.1250 - val_loss: 458.7844 - val_mae: 452.0470 - val_mse: 778582.5000\n",
      "Epoch 71/150\n",
      "\u001b[1m800/800\u001b[0m \u001b[32m━━━━━━━━━━━━━━━━━━━━\u001b[0m\u001b[37m\u001b[0m \u001b[1m3s\u001b[0m 3ms/step - loss: 721.5117 - mae: 714.7900 - mse: 1839872.8750 - val_loss: 432.9987 - val_mae: 426.2908 - val_mse: 697982.1250\n",
      "Epoch 72/150\n",
      "\u001b[1m800/800\u001b[0m \u001b[32m━━━━━━━━━━━━━━━━━━━━\u001b[0m\u001b[37m\u001b[0m \u001b[1m2s\u001b[0m 2ms/step - loss: 724.8182 - mae: 718.1716 - mse: 1858386.1250 - val_loss: 504.2750 - val_mae: 497.7007 - val_mse: 884834.2500\n",
      "Epoch 73/150\n",
      "\u001b[1m800/800\u001b[0m \u001b[32m━━━━━━━━━━━━━━━━━━━━\u001b[0m\u001b[37m\u001b[0m \u001b[1m3s\u001b[0m 3ms/step - loss: 717.6572 - mae: 711.0674 - mse: 1785862.2500 - val_loss: 539.0229 - val_mae: 532.4534 - val_mse: 933852.8750\n",
      "Epoch 74/150\n",
      "\u001b[1m800/800\u001b[0m \u001b[32m━━━━━━━━━━━━━━━━━━━━\u001b[0m\u001b[37m\u001b[0m \u001b[1m2s\u001b[0m 3ms/step - loss: 725.2455 - mae: 718.6669 - mse: 1890698.2500 - val_loss: 483.6006 - val_mae: 477.0612 - val_mse: 792422.3750\n",
      "Epoch 75/150\n",
      "\u001b[1m800/800\u001b[0m \u001b[32m━━━━━━━━━━━━━━━━━━━━\u001b[0m\u001b[37m\u001b[0m \u001b[1m2s\u001b[0m 3ms/step - loss: 709.3299 - mae: 702.7773 - mse: 1724582.8750 - val_loss: 452.9706 - val_mae: 446.3884 - val_mse: 717436.1875\n",
      "Epoch 76/150\n",
      "\u001b[1m800/800\u001b[0m \u001b[32m━━━━━━━━━━━━━━━━━━━━\u001b[0m\u001b[37m\u001b[0m \u001b[1m2s\u001b[0m 3ms/step - loss: 723.7770 - mae: 717.2289 - mse: 1877844.1250 - val_loss: 460.3649 - val_mae: 453.8152 - val_mse: 756621.5000\n",
      "Epoch 77/150\n",
      "\u001b[1m800/800\u001b[0m \u001b[32m━━━━━━━━━━━━━━━━━━━━\u001b[0m\u001b[37m\u001b[0m \u001b[1m3s\u001b[0m 3ms/step - loss: 714.0228 - mae: 707.4341 - mse: 1797101.1250 - val_loss: 451.4661 - val_mae: 444.9253 - val_mse: 720633.7500\n",
      "Epoch 78/150\n",
      "\u001b[1m800/800\u001b[0m \u001b[32m━━━━━━━━━━━━━━━━━━━━\u001b[0m\u001b[37m\u001b[0m \u001b[1m2s\u001b[0m 3ms/step - loss: 725.6265 - mae: 719.0458 - mse: 1829180.8750 - val_loss: 464.5273 - val_mae: 457.9456 - val_mse: 753003.4375\n",
      "Epoch 79/150\n",
      "\u001b[1m800/800\u001b[0m \u001b[32m━━━━━━━━━━━━━━━━━━━━\u001b[0m\u001b[37m\u001b[0m \u001b[1m2s\u001b[0m 3ms/step - loss: 719.8440 - mae: 713.2347 - mse: 1806627.7500 - val_loss: 443.5101 - val_mae: 436.8776 - val_mse: 670987.3750\n",
      "Epoch 80/150\n",
      "\u001b[1m800/800\u001b[0m \u001b[32m━━━━━━━━━━━━━━━━━━━━\u001b[0m\u001b[37m\u001b[0m \u001b[1m2s\u001b[0m 3ms/step - loss: 706.1297 - mae: 699.5043 - mse: 1709529.7500 - val_loss: 444.0786 - val_mae: 437.4489 - val_mse: 685951.6250\n",
      "Epoch 81/150\n",
      "\u001b[1m800/800\u001b[0m \u001b[32m━━━━━━━━━━━━━━━━━━━━\u001b[0m\u001b[37m\u001b[0m \u001b[1m3s\u001b[0m 3ms/step - loss: 721.2059 - mae: 714.5628 - mse: 1770100.8750 - val_loss: 460.6180 - val_mae: 453.9934 - val_mse: 736433.1875\n",
      "Epoch 82/150\n",
      "\u001b[1m800/800\u001b[0m \u001b[32m━━━━━━━━━━━━━━━━━━━━\u001b[0m\u001b[37m\u001b[0m \u001b[1m2s\u001b[0m 3ms/step - loss: 731.8287 - mae: 725.1587 - mse: 1898246.1250 - val_loss: 429.5618 - val_mae: 422.8166 - val_mse: 620450.0625\n",
      "Epoch 83/150\n",
      "\u001b[1m800/800\u001b[0m \u001b[32m━━━━━━━━━━━━━━━━━━━━\u001b[0m\u001b[37m\u001b[0m \u001b[1m2s\u001b[0m 3ms/step - loss: 712.7559 - mae: 706.0488 - mse: 1752674.1250 - val_loss: 435.0097 - val_mae: 428.3431 - val_mse: 634415.8750\n",
      "Epoch 84/150\n",
      "\u001b[1m800/800\u001b[0m \u001b[32m━━━━━━━━━━━━━━━━━━━━\u001b[0m\u001b[37m\u001b[0m \u001b[1m3s\u001b[0m 3ms/step - loss: 713.4233 - mae: 706.7308 - mse: 1745686.7500 - val_loss: 458.8241 - val_mae: 452.0854 - val_mse: 689052.3125\n",
      "Epoch 85/150\n",
      "\u001b[1m800/800\u001b[0m \u001b[32m━━━━━━━━━━━━━━━━━━━━\u001b[0m\u001b[37m\u001b[0m \u001b[1m2s\u001b[0m 3ms/step - loss: 713.4761 - mae: 706.7098 - mse: 1781020.1250 - val_loss: 435.2889 - val_mae: 428.4748 - val_mse: 643530.8125\n",
      "Epoch 86/150\n",
      "\u001b[1m800/800\u001b[0m \u001b[32m━━━━━━━━━━━━━━━━━━━━\u001b[0m\u001b[37m\u001b[0m \u001b[1m3s\u001b[0m 3ms/step - loss: 707.6453 - mae: 700.8060 - mse: 1721374.3750 - val_loss: 465.6507 - val_mae: 458.7700 - val_mse: 704146.4375\n",
      "Epoch 87/150\n",
      "\u001b[1m800/800\u001b[0m \u001b[32m━━━━━━━━━━━━━━━━━━━━\u001b[0m\u001b[37m\u001b[0m \u001b[1m3s\u001b[0m 3ms/step - loss: 701.0496 - mae: 694.1522 - mse: 1677514.2500 - val_loss: 425.4797 - val_mae: 418.5411 - val_mse: 610300.6250\n",
      "Epoch 88/150\n",
      "\u001b[1m800/800\u001b[0m \u001b[32m━━━━━━━━━━━━━━━━━━━━\u001b[0m\u001b[37m\u001b[0m \u001b[1m2s\u001b[0m 3ms/step - loss: 707.9299 - mae: 701.0260 - mse: 1690097.6250 - val_loss: 430.8803 - val_mae: 423.9406 - val_mse: 616259.5625\n",
      "Epoch 89/150\n",
      "\u001b[1m800/800\u001b[0m \u001b[32m━━━━━━━━━━━━━━━━━━━━\u001b[0m\u001b[37m\u001b[0m \u001b[1m2s\u001b[0m 3ms/step - loss: 715.2108 - mae: 708.2804 - mse: 1773452.0000 - val_loss: 448.0387 - val_mae: 441.0342 - val_mse: 640571.3750\n",
      "Epoch 90/150\n",
      "\u001b[1m800/800\u001b[0m \u001b[32m━━━━━━━━━━━━━━━━━━━━\u001b[0m\u001b[37m\u001b[0m \u001b[1m3s\u001b[0m 3ms/step - loss: 706.8760 - mae: 699.8326 - mse: 1705884.1250 - val_loss: 456.5495 - val_mae: 449.5219 - val_mse: 697107.9375\n",
      "Epoch 91/150\n",
      "\u001b[1m800/800\u001b[0m \u001b[32m━━━━━━━━━━━━━━━━━━━━\u001b[0m\u001b[37m\u001b[0m \u001b[1m3s\u001b[0m 3ms/step - loss: 707.7728 - mae: 700.6940 - mse: 1689114.2500 - val_loss: 487.7534 - val_mae: 480.6497 - val_mse: 773277.4375\n",
      "Epoch 92/150\n",
      "\u001b[1m800/800\u001b[0m \u001b[32m━━━━━━━━━━━━━━━━━━━━\u001b[0m\u001b[37m\u001b[0m \u001b[1m3s\u001b[0m 3ms/step - loss: 720.4503 - mae: 713.3054 - mse: 1777123.0000 - val_loss: 459.1953 - val_mae: 452.0381 - val_mse: 682091.4375\n",
      "Epoch 93/150\n",
      "\u001b[1m800/800\u001b[0m \u001b[32m━━━━━━━━━━━━━━━━━━━━\u001b[0m\u001b[37m\u001b[0m \u001b[1m2s\u001b[0m 3ms/step - loss: 716.3278 - mae: 709.1732 - mse: 1776766.5000 - val_loss: 437.7477 - val_mae: 430.5530 - val_mse: 623416.4375\n",
      "Epoch 94/150\n",
      "\u001b[1m800/800\u001b[0m \u001b[32m━━━━━━━━━━━━━━━━━━━━\u001b[0m\u001b[37m\u001b[0m \u001b[1m2s\u001b[0m 3ms/step - loss: 707.0592 - mae: 699.8303 - mse: 1725192.7500 - val_loss: 471.5246 - val_mae: 464.2558 - val_mse: 664583.0625\n",
      "Epoch 95/150\n",
      "\u001b[1m800/800\u001b[0m \u001b[32m━━━━━━━━━━━━━━━━━━━━\u001b[0m\u001b[37m\u001b[0m \u001b[1m3s\u001b[0m 3ms/step - loss: 718.3998 - mae: 711.1333 - mse: 1773177.3750 - val_loss: 449.0566 - val_mae: 441.7744 - val_mse: 628368.5625\n",
      "Epoch 96/150\n",
      "\u001b[1m800/800\u001b[0m \u001b[32m━━━━━━━━━━━━━━━━━━━━\u001b[0m\u001b[37m\u001b[0m \u001b[1m2s\u001b[0m 3ms/step - loss: 698.1118 - mae: 690.8159 - mse: 1648377.5000 - val_loss: 453.3551 - val_mae: 446.0764 - val_mse: 660505.5625\n",
      "Epoch 97/150\n",
      "\u001b[1m800/800\u001b[0m \u001b[32m━━━━━━━━━━━━━━━━━━━━\u001b[0m\u001b[37m\u001b[0m \u001b[1m3s\u001b[0m 3ms/step - loss: 705.0905 - mae: 697.7821 - mse: 1699284.8750 - val_loss: 425.2879 - val_mae: 417.9481 - val_mse: 570761.0000\n",
      "Epoch 98/150\n",
      "\u001b[1m800/800\u001b[0m \u001b[32m━━━━━━━━━━━━━━━━━━━━\u001b[0m\u001b[37m\u001b[0m \u001b[1m2s\u001b[0m 3ms/step - loss: 708.0729 - mae: 700.7274 - mse: 1685842.7500 - val_loss: 421.2361 - val_mae: 413.8074 - val_mse: 576545.2500\n",
      "Epoch 99/150\n",
      "\u001b[1m800/800\u001b[0m \u001b[32m━━━━━━━━━━━━━━━━━━━━\u001b[0m\u001b[37m\u001b[0m \u001b[1m2s\u001b[0m 3ms/step - loss: 702.9088 - mae: 695.4938 - mse: 1676130.2500 - val_loss: 492.5492 - val_mae: 485.0848 - val_mse: 714827.8750\n",
      "Epoch 100/150\n",
      "\u001b[1m800/800\u001b[0m \u001b[32m━━━━━━━━━━━━━━━━━━━━\u001b[0m\u001b[37m\u001b[0m \u001b[1m3s\u001b[0m 3ms/step - loss: 698.4755 - mae: 690.9919 - mse: 1664336.7500 - val_loss: 423.9640 - val_mae: 416.4250 - val_mse: 564366.1875\n",
      "Epoch 101/150\n",
      "\u001b[1m800/800\u001b[0m \u001b[32m━━━━━━━━━━━━━━━━━━━━\u001b[0m\u001b[37m\u001b[0m \u001b[1m2s\u001b[0m 3ms/step - loss: 700.3372 - mae: 692.8083 - mse: 1694048.5000 - val_loss: 445.1007 - val_mae: 437.5904 - val_mse: 628210.0000\n",
      "Epoch 102/150\n",
      "\u001b[1m800/800\u001b[0m \u001b[32m━━━━━━━━━━━━━━━━━━━━\u001b[0m\u001b[37m\u001b[0m \u001b[1m2s\u001b[0m 3ms/step - loss: 703.1713 - mae: 695.6478 - mse: 1686646.2500 - val_loss: 423.4873 - val_mae: 415.9616 - val_mse: 581577.6875\n",
      "Epoch 103/150\n",
      "\u001b[1m800/800\u001b[0m \u001b[32m━━━━━━━━━━━━━━━━━━━━\u001b[0m\u001b[37m\u001b[0m \u001b[1m2s\u001b[0m 3ms/step - loss: 711.8695 - mae: 704.3315 - mse: 1719590.8750 - val_loss: 428.4579 - val_mae: 420.9006 - val_mse: 595025.1875\n",
      "Epoch 104/150\n",
      "\u001b[1m800/800\u001b[0m \u001b[32m━━━━━━━━━━━━━━━━━━━━\u001b[0m\u001b[37m\u001b[0m \u001b[1m3s\u001b[0m 3ms/step - loss: 706.5182 - mae: 698.9623 - mse: 1729538.2500 - val_loss: 460.0527 - val_mae: 452.4761 - val_mse: 682329.8125\n",
      "Epoch 105/150\n",
      "\u001b[1m800/800\u001b[0m \u001b[32m━━━━━━━━━━━━━━━━━━━━\u001b[0m\u001b[37m\u001b[0m \u001b[1m3s\u001b[0m 3ms/step - loss: 710.9500 - mae: 703.3425 - mse: 1774546.3750 - val_loss: 471.9032 - val_mae: 464.2708 - val_mse: 659560.3750\n",
      "Epoch 106/150\n",
      "\u001b[1m800/800\u001b[0m \u001b[32m━━━━━━━━━━━━━━━━━━━━\u001b[0m\u001b[37m\u001b[0m \u001b[1m3s\u001b[0m 3ms/step - loss: 698.0970 - mae: 690.4934 - mse: 1640739.1250 - val_loss: 429.0996 - val_mae: 421.3969 - val_mse: 585676.3750\n",
      "Epoch 107/150\n",
      "\u001b[1m800/800\u001b[0m \u001b[32m━━━━━━━━━━━━━━━━━━━━\u001b[0m\u001b[37m\u001b[0m \u001b[1m2s\u001b[0m 3ms/step - loss: 699.2191 - mae: 691.5314 - mse: 1677097.3750 - val_loss: 446.1125 - val_mae: 438.4622 - val_mse: 628288.0625\n",
      "Epoch 108/150\n",
      "\u001b[1m800/800\u001b[0m \u001b[32m━━━━━━━━━━━━━━━━━━━━\u001b[0m\u001b[37m\u001b[0m \u001b[1m2s\u001b[0m 3ms/step - loss: 703.0684 - mae: 695.4092 - mse: 1686762.0000 - val_loss: 430.8609 - val_mae: 423.1936 - val_mse: 606351.6250\n",
      "Epoch 109/150\n",
      "\u001b[1m800/800\u001b[0m \u001b[32m━━━━━━━━━━━━━━━━━━━━\u001b[0m\u001b[37m\u001b[0m \u001b[1m2s\u001b[0m 3ms/step - loss: 702.8249 - mae: 695.1486 - mse: 1656632.3750 - val_loss: 461.0365 - val_mae: 453.3670 - val_mse: 669670.7500\n",
      "Epoch 110/150\n",
      "\u001b[1m800/800\u001b[0m \u001b[32m━━━━━━━━━━━━━━━━━━━━\u001b[0m\u001b[37m\u001b[0m \u001b[1m3s\u001b[0m 3ms/step - loss: 723.2552 - mae: 715.5532 - mse: 1792039.7500 - val_loss: 420.5880 - val_mae: 412.8264 - val_mse: 563032.2500\n",
      "Epoch 111/150\n",
      "\u001b[1m800/800\u001b[0m \u001b[32m━━━━━━━━━━━━━━━━━━━━\u001b[0m\u001b[37m\u001b[0m \u001b[1m2s\u001b[0m 3ms/step - loss: 711.1500 - mae: 703.3884 - mse: 1717891.0000 - val_loss: 410.3205 - val_mae: 402.5279 - val_mse: 528545.5000\n",
      "Epoch 112/150\n",
      "\u001b[1m800/800\u001b[0m \u001b[32m━━━━━━━━━━━━━━━━━━━━\u001b[0m\u001b[37m\u001b[0m \u001b[1m2s\u001b[0m 3ms/step - loss: 708.6661 - mae: 700.8597 - mse: 1699568.3750 - val_loss: 421.2713 - val_mae: 413.4443 - val_mse: 566632.1250\n",
      "Epoch 113/150\n",
      "\u001b[1m800/800\u001b[0m \u001b[32m━━━━━━━━━━━━━━━━━━━━\u001b[0m\u001b[37m\u001b[0m \u001b[1m2s\u001b[0m 3ms/step - loss: 697.2805 - mae: 689.4599 - mse: 1591175.8750 - val_loss: 419.8008 - val_mae: 411.9524 - val_mse: 551453.2500\n",
      "Epoch 114/150\n",
      "\u001b[1m800/800\u001b[0m \u001b[32m━━━━━━━━━━━━━━━━━━━━\u001b[0m\u001b[37m\u001b[0m \u001b[1m2s\u001b[0m 2ms/step - loss: 706.5442 - mae: 698.7019 - mse: 1716514.0000 - val_loss: 445.1891 - val_mae: 437.3811 - val_mse: 608439.7500\n",
      "Epoch 115/150\n",
      "\u001b[1m800/800\u001b[0m \u001b[32m━━━━━━━━━━━━━━━━━━━━\u001b[0m\u001b[37m\u001b[0m \u001b[1m3s\u001b[0m 2ms/step - loss: 710.7535 - mae: 702.9113 - mse: 1689236.1250 - val_loss: 417.6732 - val_mae: 409.7780 - val_mse: 544708.1875\n",
      "Epoch 116/150\n",
      "\u001b[1m800/800\u001b[0m \u001b[32m━━━━━━━━━━━━━━━━━━━━\u001b[0m\u001b[37m\u001b[0m \u001b[1m3s\u001b[0m 2ms/step - loss: 696.5443 - mae: 688.6525 - mse: 1601032.7500 - val_loss: 418.3464 - val_mae: 410.3855 - val_mse: 540735.6250\n",
      "Epoch 117/150\n",
      "\u001b[1m800/800\u001b[0m \u001b[32m━━━━━━━━━━━━━━━━━━━━\u001b[0m\u001b[37m\u001b[0m \u001b[1m2s\u001b[0m 2ms/step - loss: 697.4037 - mae: 689.4436 - mse: 1589029.1250 - val_loss: 404.0234 - val_mae: 396.0201 - val_mse: 509850.6250\n",
      "Epoch 118/150\n",
      "\u001b[1m800/800\u001b[0m \u001b[32m━━━━━━━━━━━━━━━━━━━━\u001b[0m\u001b[37m\u001b[0m \u001b[1m2s\u001b[0m 3ms/step - loss: 701.7999 - mae: 693.7923 - mse: 1615892.3750 - val_loss: 448.8493 - val_mae: 440.8476 - val_mse: 624569.8125\n",
      "Epoch 119/150\n",
      "\u001b[1m800/800\u001b[0m \u001b[32m━━━━━━━━━━━━━━━━━━━━\u001b[0m\u001b[37m\u001b[0m \u001b[1m3s\u001b[0m 3ms/step - loss: 700.0840 - mae: 692.0854 - mse: 1666142.7500 - val_loss: 423.3859 - val_mae: 415.3875 - val_mse: 570516.4375\n",
      "Epoch 120/150\n",
      "\u001b[1m800/800\u001b[0m \u001b[32m━━━━━━━━━━━━━━━━━━━━\u001b[0m\u001b[37m\u001b[0m \u001b[1m2s\u001b[0m 3ms/step - loss: 715.8018 - mae: 707.7834 - mse: 1709853.1250 - val_loss: 412.3423 - val_mae: 404.2861 - val_mse: 518385.5000\n",
      "Epoch 121/150\n",
      "\u001b[1m800/800\u001b[0m \u001b[32m━━━━━━━━━━━━━━━━━━━━\u001b[0m\u001b[37m\u001b[0m \u001b[1m3s\u001b[0m 3ms/step - loss: 699.6082 - mae: 691.5551 - mse: 1665091.7500 - val_loss: 447.3349 - val_mae: 439.2396 - val_mse: 602195.8125\n",
      "Epoch 122/150\n",
      "\u001b[1m800/800\u001b[0m \u001b[32m━━━━━━━━━━━━━━━━━━━━\u001b[0m\u001b[37m\u001b[0m \u001b[1m2s\u001b[0m 3ms/step - loss: 698.4841 - mae: 690.3822 - mse: 1607573.5000 - val_loss: 408.3458 - val_mae: 400.2196 - val_mse: 520561.7188\n",
      "Epoch 123/150\n",
      "\u001b[1m800/800\u001b[0m \u001b[32m━━━━━━━━━━━━━━━━━━━━\u001b[0m\u001b[37m\u001b[0m \u001b[1m2s\u001b[0m 3ms/step - loss: 693.8725 - mae: 685.7691 - mse: 1606940.0000 - val_loss: 425.2717 - val_mae: 417.1676 - val_mse: 564424.1250\n",
      "Epoch 124/150\n",
      "\u001b[1m800/800\u001b[0m \u001b[32m━━━━━━━━━━━━━━━━━━━━\u001b[0m\u001b[37m\u001b[0m \u001b[1m2s\u001b[0m 3ms/step - loss: 700.5702 - mae: 692.4518 - mse: 1634408.2500 - val_loss: 443.3808 - val_mae: 435.2422 - val_mse: 618507.1250\n",
      "Epoch 125/150\n",
      "\u001b[1m800/800\u001b[0m \u001b[32m━━━━━━━━━━━━━━━━━━━━\u001b[0m\u001b[37m\u001b[0m \u001b[1m3s\u001b[0m 3ms/step - loss: 701.0754 - mae: 692.9006 - mse: 1635577.8750 - val_loss: 423.7703 - val_mae: 415.5348 - val_mse: 552029.1875\n",
      "Epoch 126/150\n",
      "\u001b[1m800/800\u001b[0m \u001b[32m━━━━━━━━━━━━━━━━━━━━\u001b[0m\u001b[37m\u001b[0m \u001b[1m3s\u001b[0m 3ms/step - loss: 703.5472 - mae: 695.3226 - mse: 1684376.3750 - val_loss: 400.1930 - val_mae: 391.9571 - val_mse: 502777.0312\n",
      "Epoch 127/150\n",
      "\u001b[1m800/800\u001b[0m \u001b[32m━━━━━━━━━━━━━━━━━━━━\u001b[0m\u001b[37m\u001b[0m \u001b[1m2s\u001b[0m 3ms/step - loss: 700.8278 - mae: 692.5914 - mse: 1712063.6250 - val_loss: 398.0049 - val_mae: 389.7434 - val_mse: 488339.5938\n",
      "Epoch 128/150\n",
      "\u001b[1m800/800\u001b[0m \u001b[32m━━━━━━━━━━━━━━━━━━━━\u001b[0m\u001b[37m\u001b[0m \u001b[1m3s\u001b[0m 3ms/step - loss: 696.4701 - mae: 688.2090 - mse: 1621435.7500 - val_loss: 427.7691 - val_mae: 419.5395 - val_mse: 572781.2500\n",
      "Epoch 129/150\n",
      "\u001b[1m800/800\u001b[0m \u001b[32m━━━━━━━━━━━━━━━━━━━━\u001b[0m\u001b[37m\u001b[0m \u001b[1m2s\u001b[0m 3ms/step - loss: 692.6400 - mae: 684.3900 - mse: 1582475.5000 - val_loss: 411.6438 - val_mae: 403.4128 - val_mse: 539866.0625\n",
      "Epoch 130/150\n",
      "\u001b[1m800/800\u001b[0m \u001b[32m━━━━━━━━━━━━━━━━━━━━\u001b[0m\u001b[37m\u001b[0m \u001b[1m2s\u001b[0m 3ms/step - loss: 676.1705 - mae: 667.9295 - mse: 1567035.8750 - val_loss: 413.3689 - val_mae: 405.0817 - val_mse: 520549.7500\n",
      "Epoch 131/150\n",
      "\u001b[1m800/800\u001b[0m \u001b[32m━━━━━━━━━━━━━━━━━━━━\u001b[0m\u001b[37m\u001b[0m \u001b[1m2s\u001b[0m 3ms/step - loss: 693.7541 - mae: 685.4911 - mse: 1641902.5000 - val_loss: 394.1727 - val_mae: 385.8829 - val_mse: 471635.1250\n",
      "Epoch 132/150\n",
      "\u001b[1m800/800\u001b[0m \u001b[32m━━━━━━━━━━━━━━━━━━━━\u001b[0m\u001b[37m\u001b[0m \u001b[1m2s\u001b[0m 2ms/step - loss: 683.3793 - mae: 675.0727 - mse: 1524749.5000 - val_loss: 408.5133 - val_mae: 400.2204 - val_mse: 530196.1875\n",
      "Epoch 133/150\n",
      "\u001b[1m800/800\u001b[0m \u001b[32m━━━━━━━━━━━━━━━━━━━━\u001b[0m\u001b[37m\u001b[0m \u001b[1m3s\u001b[0m 3ms/step - loss: 699.4432 - mae: 691.1546 - mse: 1591559.8750 - val_loss: 405.0404 - val_mae: 396.7748 - val_mse: 512605.4375\n",
      "Epoch 134/150\n",
      "\u001b[1m800/800\u001b[0m \u001b[32m━━━━━━━━━━━━━━━━━━━━\u001b[0m\u001b[37m\u001b[0m \u001b[1m2s\u001b[0m 2ms/step - loss: 696.8158 - mae: 688.5616 - mse: 1643849.6250 - val_loss: 430.6837 - val_mae: 422.3959 - val_mse: 548618.3750\n",
      "Epoch 135/150\n",
      "\u001b[1m800/800\u001b[0m \u001b[32m━━━━━━━━━━━━━━━━━━━━\u001b[0m\u001b[37m\u001b[0m \u001b[1m2s\u001b[0m 2ms/step - loss: 696.0325 - mae: 687.7599 - mse: 1640048.8750 - val_loss: 400.8314 - val_mae: 392.4613 - val_mse: 489247.4062\n",
      "Epoch 136/150\n",
      "\u001b[1m800/800\u001b[0m \u001b[32m━━━━━━━━━━━━━━━━━━━━\u001b[0m\u001b[37m\u001b[0m \u001b[1m2s\u001b[0m 3ms/step - loss: 700.4217 - mae: 692.0723 - mse: 1687698.1250 - val_loss: 416.9700 - val_mae: 408.6168 - val_mse: 538813.6250\n",
      "Epoch 137/150\n",
      "\u001b[1m800/800\u001b[0m \u001b[32m━━━━━━━━━━━━━━━━━━━━\u001b[0m\u001b[37m\u001b[0m \u001b[1m3s\u001b[0m 3ms/step - loss: 695.1766 - mae: 686.8336 - mse: 1611313.7500 - val_loss: 406.8096 - val_mae: 398.4700 - val_mse: 518788.3750\n",
      "Epoch 138/150\n",
      "\u001b[1m800/800\u001b[0m \u001b[32m━━━━━━━━━━━━━━━━━━━━\u001b[0m\u001b[37m\u001b[0m \u001b[1m2s\u001b[0m 3ms/step - loss: 696.8326 - mae: 688.4686 - mse: 1589076.1250 - val_loss: 391.0494 - val_mae: 382.6705 - val_mse: 478135.6250\n",
      "Epoch 139/150\n",
      "\u001b[1m800/800\u001b[0m \u001b[32m━━━━━━━━━━━━━━━━━━━━\u001b[0m\u001b[37m\u001b[0m \u001b[1m2s\u001b[0m 3ms/step - loss: 697.8744 - mae: 689.4933 - mse: 1621888.6250 - val_loss: 428.2147 - val_mae: 419.8680 - val_mse: 575990.0000\n",
      "Epoch 140/150\n",
      "\u001b[1m800/800\u001b[0m \u001b[32m━━━━━━━━━━━━━━━━━━━━\u001b[0m\u001b[37m\u001b[0m \u001b[1m2s\u001b[0m 2ms/step - loss: 694.1552 - mae: 685.7912 - mse: 1608733.6250 - val_loss: 386.9113 - val_mae: 378.5140 - val_mse: 464838.1562\n",
      "Epoch 141/150\n",
      "\u001b[1m800/800\u001b[0m \u001b[32m━━━━━━━━━━━━━━━━━━━━\u001b[0m\u001b[37m\u001b[0m \u001b[1m2s\u001b[0m 3ms/step - loss: 687.8522 - mae: 679.4741 - mse: 1580865.3750 - val_loss: 401.1856 - val_mae: 392.7359 - val_mse: 497150.9688\n",
      "Epoch 142/150\n",
      "\u001b[1m800/800\u001b[0m \u001b[32m━━━━━━━━━━━━━━━━━━━━\u001b[0m\u001b[37m\u001b[0m \u001b[1m3s\u001b[0m 3ms/step - loss: 682.5453 - mae: 674.0893 - mse: 1538326.1250 - val_loss: 407.3320 - val_mae: 398.8520 - val_mse: 504400.4375\n",
      "Epoch 143/150\n",
      "\u001b[1m800/800\u001b[0m \u001b[32m━━━━━━━━━━━━━━━━━━━━\u001b[0m\u001b[37m\u001b[0m \u001b[1m2s\u001b[0m 3ms/step - loss: 696.1569 - mae: 687.6860 - mse: 1623143.0000 - val_loss: 419.1254 - val_mae: 410.6247 - val_mse: 529061.5625\n",
      "Epoch 144/150\n",
      "\u001b[1m800/800\u001b[0m \u001b[32m━━━━━━━━━━━━━━━━━━━━\u001b[0m\u001b[37m\u001b[0m \u001b[1m2s\u001b[0m 3ms/step - loss: 697.2389 - mae: 688.7278 - mse: 1610863.8750 - val_loss: 396.1403 - val_mae: 387.5666 - val_mse: 481447.5312\n",
      "Epoch 145/150\n",
      "\u001b[1m800/800\u001b[0m \u001b[32m━━━━━━━━━━━━━━━━━━━━\u001b[0m\u001b[37m\u001b[0m \u001b[1m2s\u001b[0m 2ms/step - loss: 681.2042 - mae: 672.6180 - mse: 1531441.3750 - val_loss: 394.4825 - val_mae: 385.9041 - val_mse: 483305.6875\n",
      "Epoch 146/150\n",
      "\u001b[1m800/800\u001b[0m \u001b[32m━━━━━━━━━━━━━━━━━━━━\u001b[0m\u001b[37m\u001b[0m \u001b[1m2s\u001b[0m 3ms/step - loss: 692.6908 - mae: 684.1078 - mse: 1598487.6250 - val_loss: 418.2254 - val_mae: 409.6255 - val_mse: 542608.8125\n",
      "Epoch 147/150\n",
      "\u001b[1m800/800\u001b[0m \u001b[32m━━━━━━━━━━━━━━━━━━━━\u001b[0m\u001b[37m\u001b[0m \u001b[1m2s\u001b[0m 3ms/step - loss: 705.0063 - mae: 696.3858 - mse: 1662799.0000 - val_loss: 407.3789 - val_mae: 398.6958 - val_mse: 486956.4062\n",
      "Epoch 148/150\n",
      "\u001b[1m800/800\u001b[0m \u001b[32m━━━━━━━━━━━━━━━━━━━━\u001b[0m\u001b[37m\u001b[0m \u001b[1m2s\u001b[0m 3ms/step - loss: 692.3815 - mae: 683.7130 - mse: 1579861.0000 - val_loss: 391.9491 - val_mae: 383.2556 - val_mse: 467753.2188\n",
      "Epoch 149/150\n",
      "\u001b[1m800/800\u001b[0m \u001b[32m━━━━━━━━━━━━━━━━━━━━\u001b[0m\u001b[37m\u001b[0m \u001b[1m3s\u001b[0m 3ms/step - loss: 686.5041 - mae: 677.7887 - mse: 1563775.2500 - val_loss: 387.9262 - val_mae: 379.1775 - val_mse: 469037.5938\n",
      "Epoch 150/150\n",
      "\u001b[1m800/800\u001b[0m \u001b[32m━━━━━━━━━━━━━━━━━━━━\u001b[0m\u001b[37m\u001b[0m \u001b[1m3s\u001b[0m 3ms/step - loss: 698.2927 - mae: 689.5372 - mse: 1641982.6250 - val_loss: 385.9315 - val_mae: 377.2137 - val_mse: 464414.2500\n"
     ]
    },
    {
     "data": {
      "text/plain": [
       "<keras.src.callbacks.history.History at 0x24688873650>"
      ]
     },
     "execution_count": 22,
     "metadata": {},
     "output_type": "execute_result"
    }
   ],
   "source": [
    "model.fit(X_train,y_train,batch_size=40, validation_split=0.2, epochs = 150, callbacks=checkpoint)"
   ]
  },
  {
   "cell_type": "code",
   "execution_count": 23,
   "id": "71e34f16-77e9-4963-8d24-71fb05ca5951",
   "metadata": {},
   "outputs": [
    {
     "name": "stdout",
     "output_type": "stream",
     "text": [
      "\u001b[1m313/313\u001b[0m \u001b[32m━━━━━━━━━━━━━━━━━━━━\u001b[0m\u001b[37m\u001b[0m \u001b[1m1s\u001b[0m 2ms/step - loss: 389.4552 - mae: 380.7374 - mse: 482914.0312\n"
     ]
    }
   ],
   "source": [
    "test_loss = model.evaluate(X_test,y_test)"
   ]
  },
  {
   "cell_type": "code",
   "execution_count": 24,
   "id": "f5f41cf6-818f-4150-a7a2-f39df90b5fb8",
   "metadata": {},
   "outputs": [
    {
     "name": "stdout",
     "output_type": "stream",
     "text": [
      "\u001b[1m313/313\u001b[0m \u001b[32m━━━━━━━━━━━━━━━━━━━━\u001b[0m\u001b[37m\u001b[0m \u001b[1m1s\u001b[0m 1ms/step\n"
     ]
    }
   ],
   "source": [
    "y_pred = model.predict(X_test)"
   ]
  },
  {
   "cell_type": "code",
   "execution_count": 25,
   "id": "4f698241-260d-43e8-8749-d23523f304d7",
   "metadata": {},
   "outputs": [],
   "source": [
    "from sklearn.metrics import mean_absolute_error,mean_squared_error"
   ]
  },
  {
   "cell_type": "code",
   "execution_count": 26,
   "id": "6bdf3064-6795-4218-9f1f-6de1afddaeb3",
   "metadata": {},
   "outputs": [],
   "source": [
    "MSE = mean_squared_error(y_pred,y_test)"
   ]
  },
  {
   "cell_type": "code",
   "execution_count": 27,
   "id": "d1e2bed3-c992-40bf-b588-5687222f6afe",
   "metadata": {},
   "outputs": [
    {
     "name": "stdout",
     "output_type": "stream",
     "text": [
      "503209.7168077873\n"
     ]
    }
   ],
   "source": [
    "print(MSE)"
   ]
  },
  {
   "cell_type": "code",
   "execution_count": 28,
   "id": "7691b09c-72af-4ab3-a365-ada08c55812d",
   "metadata": {},
   "outputs": [],
   "source": [
    "MAE = mean_absolute_error(y_pred,y_test)"
   ]
  },
  {
   "cell_type": "code",
   "execution_count": 29,
   "id": "481c49cd-0d20-4cda-aa62-098c46d7c78b",
   "metadata": {},
   "outputs": [
    {
     "name": "stdout",
     "output_type": "stream",
     "text": [
      "390.0\n"
     ]
    }
   ],
   "source": [
    "print(round(MAE,1))"
   ]
  }
 ],
 "metadata": {
  "kernelspec": {
   "display_name": "Python 3 (ipykernel)",
   "language": "python",
   "name": "python3"
  },
  "language_info": {
   "codemirror_mode": {
    "name": "ipython",
    "version": 3
   },
   "file_extension": ".py",
   "mimetype": "text/x-python",
   "name": "python",
   "nbconvert_exporter": "python",
   "pygments_lexer": "ipython3",
   "version": "3.11.7"
  }
 },
 "nbformat": 4,
 "nbformat_minor": 5
}
